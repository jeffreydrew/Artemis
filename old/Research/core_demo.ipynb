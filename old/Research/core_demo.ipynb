{
 "cells": [
  {
   "attachments": {},
   "cell_type": "markdown",
   "metadata": {},
   "source": [
    "# Reseacher for BNF System\n",
    "This notebook is for the data analysis of past data to \"backtest\" the real data collection of the BNF system. \n",
    "\n",
    "Pool of 200 stocks, criteria for selection into the pool:\n",
    "- last price: < $100\n",
    "- Market cap: > 10B\n",
    "- volume: > 3M\n",
    "\n",
    "Every day, the top 20 movers are selected and ranked based on absolute value of change in price from previous day\n",
    "- for each of these, look for prevailing trend in past month\n",
    "- determine performance of sector and performance of leading stock in sector\n",
    "\n",
    "\n"
   ]
  }
 ],
 "metadata": {
  "language_info": {
   "name": "python"
  },
  "orig_nbformat": 4
 },
 "nbformat": 4,
 "nbformat_minor": 2
}
