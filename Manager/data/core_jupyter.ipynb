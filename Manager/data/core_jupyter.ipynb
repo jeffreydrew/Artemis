{
 "cells": [
  {
   "cell_type": "code",
   "execution_count": 49,
   "metadata": {},
   "outputs": [],
   "source": [
    "import yfinance as yf\n",
    "import pandas as pd\n",
    "\n",
    "restriction = 30\n",
    "list = 'artemis_focus.csv' #jupyter notebooks execute in same directory as the file\n",
    "\n"
   ]
  },
  {
   "cell_type": "code",
   "execution_count": 57,
   "metadata": {},
   "outputs": [],
   "source": [
    "class DataAnalyst:\n",
    "    def __init__(self):\n",
    "        self.tickers = self.set_tickers()\n",
    "        self.movers = self.get_top_movers()\n",
    "        self.losers = self.get_top_losers()[:50]\n",
    "\n",
    "    def set_tickers(self):\n",
    "        symbols = pd.read_csv(list)\n",
    "        tickers = symbols[\"Symbol\"].tolist()\n",
    "        return tickers\n",
    "\n",
    "    def get_top_movers(self):\n",
    "        movers = []\n",
    "        for t in self.tickers:\n",
    "            curr = yf.Ticker(t)\n",
    "            # print the closing price of curr\n",
    "            c = curr.history(period=\"2d\", interval=\"1d\")[\"Close\"][0]\n",
    "            o = curr.history(period=\"2d\", interval=\"1d\")[\"Open\"][0]\n",
    "            diff = c - o\n",
    "            percent_diff = diff / o * 100\n",
    "            if percent_diff < 0:\n",
    "                movers.append((t, abs(percent_diff), \"down\"))\n",
    "            elif percent_diff > 0:\n",
    "                movers.append((t, percent_diff, \"up\"))\n",
    "\n",
    "        movers.sort(key=lambda x: x[1], reverse=True)\n",
    "        # return the top 20 movers\n",
    "        return movers\n",
    "    \n",
    "    def get_top_losers(self):\n",
    "        losers = []\n",
    "        for t in self.movers:\n",
    "            #if the mover is down, add it to the losers list\n",
    "            if t[2] == 'down':\n",
    "                losers.append(t)\n",
    "\n",
    "        losers.sort(key=lambda x: x[1], reverse=True)\n",
    "        return losers[:20]\n"
   ]
  },
  {
   "cell_type": "code",
   "execution_count": 58,
   "metadata": {},
   "outputs": [
    {
     "name": "stdout",
     "output_type": "stream",
     "text": [
      "ON: No data found for this date range, symbol may be delisted\n"
     ]
    },
    {
     "ename": "IndexError",
     "evalue": "index 0 is out of bounds for axis 0 with size 0",
     "output_type": "error",
     "traceback": [
      "\u001b[0;31m---------------------------------------------------------------------------\u001b[0m",
      "\u001b[0;31mIndexError\u001b[0m                                Traceback (most recent call last)",
      "\u001b[1;32m/home/jeffreydrew/Desktop/Dev/Artemis/Manager/data/core_jupyter.ipynb Cell 3\u001b[0m in \u001b[0;36m<cell line: 3>\u001b[0;34m()\u001b[0m\n\u001b[1;32m      <a href='vscode-notebook-cell:/home/jeffreydrew/Desktop/Dev/Artemis/Manager/data/core_jupyter.ipynb#W2sZmlsZQ%3D%3D?line=0'>1</a>\u001b[0m \u001b[39m#DONT REEXECUTE THIS CELL I WILL SEND YOU A PIPE BOMB IN THE MAIL\u001b[39;00m\n\u001b[1;32m      <a href='vscode-notebook-cell:/home/jeffreydrew/Desktop/Dev/Artemis/Manager/data/core_jupyter.ipynb#W2sZmlsZQ%3D%3D?line=1'>2</a>\u001b[0m \u001b[39m#Run this once per day do update the list of movers and rebuild the manager\u001b[39;00m\n\u001b[0;32m----> <a href='vscode-notebook-cell:/home/jeffreydrew/Desktop/Dev/Artemis/Manager/data/core_jupyter.ipynb#W2sZmlsZQ%3D%3D?line=2'>3</a>\u001b[0m da \u001b[39m=\u001b[39m DataAnalyst()\n",
      "\u001b[1;32m/home/jeffreydrew/Desktop/Dev/Artemis/Manager/data/core_jupyter.ipynb Cell 3\u001b[0m in \u001b[0;36mDataAnalyst.__init__\u001b[0;34m(self)\u001b[0m\n\u001b[1;32m      <a href='vscode-notebook-cell:/home/jeffreydrew/Desktop/Dev/Artemis/Manager/data/core_jupyter.ipynb#W2sZmlsZQ%3D%3D?line=2'>3</a>\u001b[0m \u001b[39mself\u001b[39m\u001b[39m.\u001b[39mtickers \u001b[39m=\u001b[39m \u001b[39mself\u001b[39m\u001b[39m.\u001b[39mset_tickers()\n\u001b[1;32m      <a href='vscode-notebook-cell:/home/jeffreydrew/Desktop/Dev/Artemis/Manager/data/core_jupyter.ipynb#W2sZmlsZQ%3D%3D?line=3'>4</a>\u001b[0m \u001b[39mself\u001b[39m\u001b[39m.\u001b[39mmovers \u001b[39m=\u001b[39m \u001b[39mself\u001b[39m\u001b[39m.\u001b[39mget_top_movers()\n\u001b[0;32m----> <a href='vscode-notebook-cell:/home/jeffreydrew/Desktop/Dev/Artemis/Manager/data/core_jupyter.ipynb#W2sZmlsZQ%3D%3D?line=4'>5</a>\u001b[0m \u001b[39mself\u001b[39m\u001b[39m.\u001b[39mlosers \u001b[39m=\u001b[39m \u001b[39mself\u001b[39;49m\u001b[39m.\u001b[39;49mget_top_losers()[:\u001b[39m50\u001b[39m]\n",
      "\u001b[1;32m/home/jeffreydrew/Desktop/Dev/Artemis/Manager/data/core_jupyter.ipynb Cell 3\u001b[0m in \u001b[0;36mDataAnalyst.get_top_losers\u001b[0;34m(self)\u001b[0m\n\u001b[1;32m     <a href='vscode-notebook-cell:/home/jeffreydrew/Desktop/Dev/Artemis/Manager/data/core_jupyter.ipynb#W2sZmlsZQ%3D%3D?line=32'>33</a>\u001b[0m curr \u001b[39m=\u001b[39m yf\u001b[39m.\u001b[39mTicker(t)\n\u001b[1;32m     <a href='vscode-notebook-cell:/home/jeffreydrew/Desktop/Dev/Artemis/Manager/data/core_jupyter.ipynb#W2sZmlsZQ%3D%3D?line=33'>34</a>\u001b[0m \u001b[39m# print the closing price of curr\u001b[39;00m\n\u001b[0;32m---> <a href='vscode-notebook-cell:/home/jeffreydrew/Desktop/Dev/Artemis/Manager/data/core_jupyter.ipynb#W2sZmlsZQ%3D%3D?line=34'>35</a>\u001b[0m c \u001b[39m=\u001b[39m curr\u001b[39m.\u001b[39;49mhistory(period\u001b[39m=\u001b[39;49m\u001b[39m\"\u001b[39;49m\u001b[39m2d\u001b[39;49m\u001b[39m\"\u001b[39;49m, interval\u001b[39m=\u001b[39;49m\u001b[39m\"\u001b[39;49m\u001b[39m1d\u001b[39;49m\u001b[39m\"\u001b[39;49m)[\u001b[39m\"\u001b[39;49m\u001b[39mClose\u001b[39;49m\u001b[39m\"\u001b[39;49m][\u001b[39m0\u001b[39;49m]\n\u001b[1;32m     <a href='vscode-notebook-cell:/home/jeffreydrew/Desktop/Dev/Artemis/Manager/data/core_jupyter.ipynb#W2sZmlsZQ%3D%3D?line=35'>36</a>\u001b[0m o \u001b[39m=\u001b[39m curr\u001b[39m.\u001b[39mhistory(period\u001b[39m=\u001b[39m\u001b[39m\"\u001b[39m\u001b[39m2d\u001b[39m\u001b[39m\"\u001b[39m, interval\u001b[39m=\u001b[39m\u001b[39m\"\u001b[39m\u001b[39m1d\u001b[39m\u001b[39m\"\u001b[39m)[\u001b[39m\"\u001b[39m\u001b[39mOpen\u001b[39m\u001b[39m\"\u001b[39m][\u001b[39m0\u001b[39m]\n\u001b[1;32m     <a href='vscode-notebook-cell:/home/jeffreydrew/Desktop/Dev/Artemis/Manager/data/core_jupyter.ipynb#W2sZmlsZQ%3D%3D?line=36'>37</a>\u001b[0m diff \u001b[39m=\u001b[39m c \u001b[39m-\u001b[39m o\n",
      "File \u001b[0;32m~/anaconda3/lib/python3.9/site-packages/pandas/core/series.py:955\u001b[0m, in \u001b[0;36mSeries.__getitem__\u001b[0;34m(self, key)\u001b[0m\n\u001b[1;32m    952\u001b[0m     key \u001b[39m=\u001b[39m unpack_1tuple(key)\n\u001b[1;32m    954\u001b[0m \u001b[39mif\u001b[39;00m is_integer(key) \u001b[39mand\u001b[39;00m \u001b[39mself\u001b[39m\u001b[39m.\u001b[39mindex\u001b[39m.\u001b[39m_should_fallback_to_positional:\n\u001b[0;32m--> 955\u001b[0m     \u001b[39mreturn\u001b[39;00m \u001b[39mself\u001b[39;49m\u001b[39m.\u001b[39;49m_values[key]\n\u001b[1;32m    957\u001b[0m \u001b[39melif\u001b[39;00m key_is_scalar:\n\u001b[1;32m    958\u001b[0m     \u001b[39mreturn\u001b[39;00m \u001b[39mself\u001b[39m\u001b[39m.\u001b[39m_get_value(key)\n",
      "\u001b[0;31mIndexError\u001b[0m: index 0 is out of bounds for axis 0 with size 0"
     ]
    }
   ],
   "source": [
    "#DONT REEXECUTE THIS CELL I WILL SEND YOU A PIPE BOMB IN THE MAIL\n",
    "#Run this once per day do update the list of movers and rebuild the manager\n",
    "da = DataAnalyst()"
   ]
  },
  {
   "cell_type": "code",
   "execution_count": 56,
   "metadata": {},
   "outputs": [
    {
     "name": "stdout",
     "output_type": "stream",
     "text": [
      "('COIN', 10.165267860904445, 'up')\n",
      "('SNAP', 5.860466180845749, 'up')\n",
      "('KEY', 5.541770619006405, 'up')\n",
      "('NET', 5.064217103730647, 'up')\n",
      "('UBS', 4.622258245703844, 'up')\n",
      "('TFC', 4.560971894451125, 'up')\n",
      "('OWL', 4.545450029951333, 'up')\n",
      "('LCID', 4.331206113137483, 'up')\n",
      "('DOCU', 4.2773082963375915, 'up')\n",
      "('USB', 4.222223493787977, 'up')\n",
      "('WBD', 4.212711530634154, 'up')\n",
      "('PARA', 3.861197218365885, 'up')\n",
      "('APA', 3.7914770664479396, 'up')\n",
      "('DDOG', 3.721899759044246, 'up')\n",
      "('SHOP', 3.718828256441086, 'up')\n",
      "('TWLO', 3.700189896396951, 'up')\n",
      "('CHWY', 3.611325874340171, 'up')\n",
      "('PYPL', 3.4799053848048884, 'up')\n",
      "('NIO', 3.459826097063396, 'up')\n",
      "('SE', 3.4456007347937363, 'up')\n"
     ]
    }
   ],
   "source": [
    "for m in da.movers:\n",
    "    print(m)"
   ]
  },
  {
   "attachments": {},
   "cell_type": "markdown",
   "metadata": {},
   "source": [
    "the environmental impact of global economic activities is often overlooked. \n",
    "\n"
   ]
  },
  {
   "cell_type": "code",
   "execution_count": null,
   "metadata": {},
   "outputs": [],
   "source": []
  }
 ],
 "metadata": {
  "kernelspec": {
   "display_name": "base",
   "language": "python",
   "name": "python3"
  },
  "language_info": {
   "codemirror_mode": {
    "name": "ipython",
    "version": 3
   },
   "file_extension": ".py",
   "mimetype": "text/x-python",
   "name": "python",
   "nbconvert_exporter": "python",
   "pygments_lexer": "ipython3",
   "version": "3.9.12"
  },
  "orig_nbformat": 4
 },
 "nbformat": 4,
 "nbformat_minor": 2
}
